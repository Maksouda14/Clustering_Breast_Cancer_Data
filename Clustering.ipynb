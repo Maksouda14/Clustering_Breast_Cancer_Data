{
  "nbformat": 4,
  "nbformat_minor": 0,
  "metadata": {
    "colab": {
      "provenance": []
    },
    "kernelspec": {
      "name": "python3",
      "display_name": "Python 3"
    },
    "language_info": {
      "name": "python"
    }
  },
  "cells": [
    {
      "cell_type": "markdown",
      "source": [
        "# **Data Loading**\n"
      ],
      "metadata": {
        "id": "sD9Kv07Za3S5"
      }
    },
    {
      "cell_type": "code",
      "execution_count": null,
      "metadata": {
        "id": "BRl6wmnOnxWM"
      },
      "outputs": [],
      "source": [
        "from sklearn.datasets import load_breast_cancer\n",
        "data = load_breast_cancer()\n",
        "X=data.data\n",
        "y=data.target #resultat"
      ]
    },
    {
      "cell_type": "markdown",
      "source": [
        "# **Data Engineering**"
      ],
      "metadata": {
        "id": "SzZYRFVZbS4j"
      }
    },
    {
      "cell_type": "code",
      "source": [
        "import numpy as np\n",
        "from sklearn.model_selection import train_test_split\n",
        "X_train, X_test, y_train, y_test = train_test_split(X, y, test_size=0.75, random_state=42) # RSs: changer l'ordre de présentation  des données afin de s'approcher de la généralisation\n",
        "print(X_train.shape)\n",
        "print(X_test.shape)\n",
        "print(y_train.shape)\n",
        "print(y_test.shape)"
      ],
      "metadata": {
        "colab": {
          "base_uri": "https://localhost:8080/"
        },
        "id": "44g6yZeOwGri",
        "outputId": "deed97e7-46b4-4666-fdb8-58bcd02b08cd"
      },
      "execution_count": null,
      "outputs": [
        {
          "output_type": "stream",
          "name": "stdout",
          "text": [
            "(142, 30)\n",
            "(427, 30)\n",
            "(142,)\n",
            "(427,)\n"
          ]
        }
      ]
    },
    {
      "cell_type": "markdown",
      "source": [
        "# **Predictive Analysis (Model)**"
      ],
      "metadata": {
        "id": "N5iek2fDbMLu"
      }
    },
    {
      "cell_type": "markdown",
      "source": [
        "## One NN"
      ],
      "metadata": {
        "id": "tkDTs_I8qDN5"
      }
    },
    {
      "cell_type": "markdown",
      "source": [
        "* Méthode **sklearn**"
      ],
      "metadata": {
        "id": "cT6blbfkoBNT"
      }
    },
    {
      "cell_type": "code",
      "source": [
        "from sklearn.neighbors import KNeighborsClassifier\n",
        "neigh = KNeighborsClassifier(n_neighbors=1)\n",
        "neigh.fit(X_train, y_train)\n",
        "y_pred=neigh.predict(X_test)\n",
        "print(y_test-y_pred)\n",
        "#print(neigh.predict_proba([[0.9]]))\n"
      ],
      "metadata": {
        "colab": {
          "base_uri": "https://localhost:8080/"
        },
        "id": "F2bWuekBgHyg",
        "outputId": "64ff1b1e-6fff-40fb-9643-047e8600af77"
      },
      "execution_count": null,
      "outputs": [
        {
          "output_type": "stream",
          "name": "stdout",
          "text": [
            "[ 0  0  0  0  0  0  0  0  0  0  0  0  0 -1  0  0  0  0  0  0  0  0  0  0\n",
            "  0  0  0  0  0  0  0  0  0  1  0  0  0  0  0  1  0  0  0  0  0  0  0  0\n",
            "  0  0  0  0  0  0  0  0  0  0  0  0  0  0  0  1  0  0  0  0  0  0  0  0\n",
            "  0 -1  0  0  0 -1  0  0  0  0  0  0  0  0 -1  0  0  0  0  0  0  0  0  0\n",
            "  0  0  0  0  0  0  0  0  0  0  0  0  0  1  0  0  1  0  0  0  0  0  0  0\n",
            "  0  0  0  0  0  0  0  0  0  0  0 -1  1  0  1  0  0  0  1  0  0  0  0  0\n",
            "  0  0  0  0  0  0  0  0  0  0  0  0  0  0  0  0  0  0  0  0  0  0  0  1\n",
            "  0  0  0  0  0  1  0  1  0  1  0  0  0  0  0  0  0  0  1  0  0  1  0  0\n",
            "  0  0  0  0  0  0  0  0  1  0  0  0  0  0  0  0  0  0  0  0  0  0  0  0\n",
            "  0  0  0  0  0  0  0  0  0  0  0  0  0  0  0  0  0  0 -1  0  0  0  1  0\n",
            "  0  0  0  1  0  0  0  0  0  0  1  0  0  0  0 -1  0  0  1  0  0 -1  0  1\n",
            "  0  0  0  0  0 -1  0  0  0  0  1  0  0  0  0  0  0  0  0  0  0  1  0  0\n",
            "  0  0  0  0  0  0  0  0  0  0  0  0  0  0  0  0  0  0  0 -1  0  0  0 -1\n",
            "  0  0  0  0 -1  0  1  0  0  0  0  0  0  0  0  0  0  0  0  0  0  0  0  0\n",
            "  0  1  0  0  0  0  0  0  1  0  0  0  0  0  0  0  0  1  0  0  0  0  0  0\n",
            "  0  0  0  0  0  0  0  0  0  0  0  0  0  0  0 -1  0  0  0  0  0  0  0  0\n",
            "  0  0  0  0  0  0  0  0  0  0  0  0  1  0  0  0  0  0  0  0  0  0  0  0\n",
            "  0  0  0  0  0  1  0  0  0  0  0  1  0  0  0 -1  0  0 -1]\n"
          ]
        }
      ]
    },
    {
      "cell_type": "markdown",
      "source": [
        "* Méthode from **scratch**"
      ],
      "metadata": {
        "id": "aS9w3yfpn37K"
      }
    },
    {
      "cell_type": "code",
      "source": [
        "import numpy as np\n",
        "\n",
        "class oneNN:\n",
        "  def _init_(self):\n",
        "    self.X_train = None\n",
        "    self.y_train= None\n",
        "  def fit(self, X_train, y_train):\n",
        "        self.X_train = X_train\n",
        "        self.y_train = y_train\n",
        "  def predict(self, X_test):\n",
        "    y_pred= np.zeros(X_test.shape[0])\n",
        "    for i in range (X_test.shape[0]):\n",
        "      #Calculate the distances between the test point and all the training points\n",
        "       distances = [self.euclidean_distance(X_test[i], x) for x in self.X_train]\n",
        "\n",
        "      # Find the training point with the smallest distance\n",
        "       min_distance=min(distances)\n",
        "       min_index= distances.index(min_distance)\n",
        "\n",
        "      # Predict the label of the test point based on the label of the nearest training point\n",
        "       y_pred[i]= self.y_train[min_index]\n",
        "\n",
        "    return y_pred\n",
        "\n",
        "  def euclidean_distance(self, x1, x2):\n",
        "      return np.sqrt(np.sum((x1 - x2) ** 2))\n"
      ],
      "metadata": {
        "id": "7tBTklE1iIlO"
      },
      "execution_count": null,
      "outputs": []
    },
    {
      "cell_type": "code",
      "source": [
        "neigh = oneNN()\n",
        "neigh.fit(X_train, y_train)\n",
        "y_pred=neigh.predict(X_test)\n",
        "print(y_test-y_pred)"
      ],
      "metadata": {
        "id": "GZL9f0OJks3R"
      },
      "execution_count": null,
      "outputs": []
    },
    {
      "cell_type": "markdown",
      "source": [
        "## KNN"
      ],
      "metadata": {
        "id": "jMtQqQAYqL51"
      }
    },
    {
      "cell_type": "markdown",
      "source": [
        "* Méthode Sklearn"
      ],
      "metadata": {
        "id": "u-Tiihg7qSim"
      }
    },
    {
      "cell_type": "code",
      "source": [
        "from sklearn.neighbors import KNeighborsClassifier\n",
        "neigh = KNeighborsClassifier(n_neighbors=7)\n",
        "neigh.fit(X_train, y_train)\n",
        "y_pred=neigh.predict(X_test)\n",
        "print(y_test-y_pred)\n",
        "#print(neigh.predict_proba([[0.9]]))"
      ],
      "metadata": {
        "colab": {
          "base_uri": "https://localhost:8080/"
        },
        "id": "UF_mR6vAqQJI",
        "outputId": "be4e6f4a-e47d-4422-b78f-5f5934e6e5bf"
      },
      "execution_count": null,
      "outputs": [
        {
          "output_type": "stream",
          "name": "stdout",
          "text": [
            "[ 0  0  0  0  0  0  0  0  0  0  0  0  1  0  0  0  1  0  0  0  0  0  0  0\n",
            "  0  0  0  0  0  0  0  0  0  1  0  0  0  0  0  1  0  0  0  0  0  0  0  0\n",
            "  0  0  0  0  0  0  0  0  0  0  0  0  0  0  0  0  0  0  0  0  0  0  0  0\n",
            "  0  0  0  0  0  0  0  0  0  0  0  0  0  0 -1  0  0  0  0  0  1  0  0  0\n",
            "  0  0  0  0  0  0  0  0  0  0  0  0  1  1  0  0  1  0  0  0  0  0  0  0\n",
            "  1  0  0  0  0  0  0  0  0  0  0  0  1  0  0  0  0  0  1  0  0  0  0  0\n",
            "  0  0  0  0  0  0  0  0  0  0  0  0  0  0  1  0  0  0  0  0  0  0  0  1\n",
            "  0  0  0  0  0  1  0  0  0  1  0  0  0  0  0  0  0  0  1  0  0  0  0  0\n",
            "  0  0  0  0  0  0  0  0  1  0  0  0  0  0  0  0  0  0  0  0  0  0  0  0\n",
            "  0  0  0  0  0  1  0  0  0  0  0  0  0  0  0  1  0  0 -1  0  0  0  1  0\n",
            "  0  0  0  0 -1  0  0  0  0  0  1  0  0  0  0 -1  0  0  1  0  0 -1  0  1\n",
            "  0  0  0  0  0  0  0  0  0  0  1  0  0  0  0  0  0  0  0  0  0  0  0  0\n",
            "  0  0  0  0  0  0  1  0  0  0  0  0  0  0  0  0  0  0  0 -1  0  0  0 -1\n",
            "  0  0  0  0 -1  1  1  0  0  0  0  0  0  0  0  0  0  0  0  0  0  0  0  0\n",
            "  0  0  0  0  0  0  0  0  1  0  0  0  0  0  0  0  0  1  0  0  0  0  0  0\n",
            "  0  0  0  0  0  0  0  0  0  0  0  0  0  0  0  0  0  0  0  0  0  0  0  0\n",
            "  0  0  1  0  0  0  0  0  0  0  0  0  1  0  1  0  0  0  0  0  1  0  0  0\n",
            "  0  0  0  0  0  1  0  0  0  0  0  0 -1  0  0  0 -1  0  0]\n"
          ]
        }
      ]
    },
    {
      "cell_type": "markdown",
      "source": [
        "* Méthode from Scratch"
      ],
      "metadata": {
        "id": "X5vjUkPkqgD9"
      }
    },
    {
      "cell_type": "code",
      "source": [
        "import numpy as np\n",
        "\n",
        "class KNN :\n",
        "  def __init__(self, k):\n",
        "    self.k=k\n",
        "    self.X_train = None\n",
        "    self.y_train= None\n",
        "  def fit(self, X_train, y_train):\n",
        "        self.X_train = X_train\n",
        "        self.y_train = y_train\n",
        "  def predict(self, X_test):\n",
        "    y_pred= np.zeros(X_test.shape[0])\n",
        "    for i in range (X_test.shape[0]):\n",
        "      #Calculate the distances between the test point and all the training points\n",
        "       distances = [self.euclidean_distance(X_test[i], x) for x in self.X_train]\n",
        "\n",
        "      # Find the k nearest training points\n",
        "       k_nearest_indices=np.argsort(distances)[:self.k]\n",
        "\n",
        "      # get the labels of the k nearest training points\n",
        "       k_nearest_labels=[self.y_train[i] for i in k_nearest_indices]\n",
        "\n",
        "      # Predict the laabel of the test point based on the majority vote of the k nearest training points\n",
        "       y_pred[i]= majority_vote(k_nearest_labels)\n",
        "\n",
        "    return y_pred\n",
        "\n",
        "  def euclidean_distance(self, x1, x2):\n",
        "      return np.sqrt(np.sum((x1 - x2) ** 2))\n",
        "\n",
        "def majority_vote(labels):\n",
        "    unique_labels, counts= np.unique(labels, return_counts=True)\n",
        "    return unique_labels[np.argmax(counts)]"
      ],
      "metadata": {
        "id": "ywBFqGXIqjNT"
      },
      "execution_count": null,
      "outputs": []
    },
    {
      "cell_type": "code",
      "source": [
        "neigh =KNN(3)\n",
        "neigh.fit(X_train, y_train)\n",
        "y_pred=neigh.predict(X_test)\n",
        "print(y_test-y_pred)"
      ],
      "metadata": {
        "id": "bU8DeuhgwsFZ"
      },
      "execution_count": null,
      "outputs": []
    },
    {
      "cell_type": "markdown",
      "source": [
        "# **Manhattan Distance**"
      ],
      "metadata": {
        "id": "sf36XEYltAvq"
      }
    },
    {
      "cell_type": "code",
      "source": [
        "\"\"\"import numpy as np\n",
        "\n",
        "class KNN:\n",
        "    def __init__(self, k):\n",
        "        self.k = k\n",
        "        self.X_train = None\n",
        "        self.y_train = None\n",
        "\n",
        "    def fit(self, X_train, y_train):\n",
        "        self.X_train = X_train\n",
        "        self.y_train = y_train\n",
        "\n",
        "    def predict(self, X_test):\n",
        "        y_pred = np.zeros(X_test.shape[0])\n",
        "        for i in range(X_test.shape[0]):\n",
        "            # Calculate the distances between the test point and all the training points\n",
        "            distances = [self.manhattan_distance(X_test[i], x) for x in self.X_train]\n",
        "\n",
        "            # Find the k nearest training points\n",
        "            k_nearest_indices = np.argsort(distances)[:self.k]\n",
        "\n",
        "            # Get the labels of the k nearest training points\n",
        "            k_nearest_labels = [self.y_train[i] for i in k_nearest_indices]\n",
        "\n",
        "            # Predict the label of the test point based on the majority vote of the k nearest training points\n",
        "            y_pred[i] = self.majority_vote(k_nearest_labels)\n",
        "\n",
        "        return y_pred\n",
        "\n",
        "    def manhattan_distance(self, x1, x2):\n",
        "        return np.sum(np.abs(x1 - x2))\n",
        "\n",
        "    def majority_vote(self, labels):\n",
        "        unique_labels, counts = np.unique(labels, return_counts=True)\n",
        "        return unique_labels[np.argmax(counts)]\n",
        "\n",
        "# Example usage:\n",
        "neigh =KNN(3)\n",
        "neigh.fit(X_train, y_train)\n",
        "y_pred=neigh.predict(X_test)\n",
        "print(y_test-y_pred)\n"
      ],
      "metadata": {
        "id": "CXYSrwTts9Xv",
        "colab": {
          "base_uri": "https://localhost:8080/",
          "height": 110
        },
        "outputId": "e189cf1e-7806-441c-cccc-3ef342f82632"
      },
      "execution_count": null,
      "outputs": [
        {
          "output_type": "error",
          "ename": "SyntaxError",
          "evalue": "incomplete input (<ipython-input-9-21bbff702c33>, line 1)",
          "traceback": [
            "\u001b[0;36m  File \u001b[0;32m\"<ipython-input-9-21bbff702c33>\"\u001b[0;36m, line \u001b[0;32m1\u001b[0m\n\u001b[0;31m    \"\"\"import numpy as np\u001b[0m\n\u001b[0m    ^\u001b[0m\n\u001b[0;31mSyntaxError\u001b[0m\u001b[0;31m:\u001b[0m incomplete input\n"
          ]
        }
      ]
    },
    {
      "cell_type": "markdown",
      "source": [
        "# **KNN with distance type parameter**"
      ],
      "metadata": {
        "id": "dMUqajv1uiGs"
      }
    },
    {
      "cell_type": "code",
      "source": [
        "\"\"\"class KNN:\n",
        "    def __init__(self, k, distance_metric='euclidean'):\n",
        "        self.k = k\n",
        "        self.distance_metric = distance_metric\n",
        "        self.X_train = None\n",
        "        self.y_train = None\n",
        "\n",
        "    def fit(self, X_train, y_train):\n",
        "        self.X_train = X_train\n",
        "        self.y_train = y_train\n",
        "\n",
        "    def predict(self, X_test):\n",
        "        y_pred = np.zeros(X_test.shape[0])\n",
        "        for i in range(X_test.shape[0]):\n",
        "            # Calculate the distances between the test point and all the training points\n",
        "            if self.distance_metric == 'euclidean':\n",
        "                distances = [self.euclidean_distance(X_test[i], x) for x in self.X_train]\n",
        "            elif self.distance_metric == 'manhattan':\n",
        "                distances = [self.manhattan_distance(X_test[i], x) for x in self.X_train]\n",
        "            else:\n",
        "                raise ValueError(\"Invalid distance metric. Choose either 'euclidean' or 'manhattan'.\")\n",
        "\n",
        "            # Find the k nearest training points\n",
        "            k_nearest_indices = np.argsort(distances)[:self.k]\n",
        "\n",
        "            # Get the labels of the k nearest training points\n",
        "            k_nearest_labels = [self.y_train[i] for i in k_nearest_indices]\n",
        "\n",
        "            # Predict the label of the test point based on the majority vote of the k nearest training points\n",
        "            y_pred[i] = self.majority_vote(k_nearest_labels)\n",
        "\n",
        "        return y_pred\n",
        "\n",
        "    def euclidean_distance(self, x1, x2):\n",
        "        return np.sqrt(np.sum((x1 - x2) ** 2))\n",
        "\n",
        "    def manhattan_distance(self, x1, x2):\n",
        "        return np.sum(np.abs(x1 - x2))\n",
        "\n",
        "    def majority_vote(self, labels):\n",
        "        unique_labels, counts = np.unique(labels, return_counts=True)\n",
        "        return unique_labels[np.argmax(counts)]\n",
        "\n",
        "# Example usage:\n",
        "c = input('Choose your distance type (euclidean/manhattan): ')\n",
        "knn = KNN(k=3, distance_metric=c)\n",
        "knn.fit(X_train, y_train)\n",
        "y_pred = knn.predict(X_test)\n",
        "print(y_test - y_pred)"
      ],
      "metadata": {
        "id": "ZkQvCyTGuguo"
      },
      "execution_count": null,
      "outputs": []
    },
    {
      "cell_type": "markdown",
      "source": [
        "# **KNN with Weighted vote**"
      ],
      "metadata": {
        "id": "YGS2uOm7K7Xb"
      }
    },
    {
      "cell_type": "code",
      "source": [
        "import numpy as np\n",
        "\n",
        "class KNN:\n",
        "    def __init__(self, k):\n",
        "        self.k = k\n",
        "        self.X_train = None\n",
        "        self.y_train = None\n",
        "\n",
        "    def fit(self, X_train, y_train):\n",
        "        self.X_train = X_train\n",
        "        self.y_train = y_train\n",
        "\n",
        "    def predict(self, X_test):\n",
        "        y_pred = np.zeros(X_test.shape[0])\n",
        "        for i in range(X_test.shape[0]):\n",
        "            # Calculate the distances between the test point and all the training points\n",
        "            distances = [self.euclidean_distance(X_test[i], x) for x in self.X_train]\n",
        "\n",
        "            # Find the k nearest training points\n",
        "            k_nearest_indices = np.argsort(distances)[:self.k]\n",
        "\n",
        "            # Get the labels of the k nearest training points\n",
        "            k_nearest_labels = [self.y_train[i] for i in k_nearest_indices]\n",
        "\n",
        "            # Calculate weights based on inverse distance\n",
        "            weights = [1 / d for d in distances[:self.k]]\n",
        "\n",
        "            # Predict the label of the test point based on the weighted votes\n",
        "            y_pred[i] = self.weighted_vote(k_nearest_labels, weights)\n",
        "\n",
        "        return y_pred\n",
        "\n",
        "    def euclidean_distance(self, x1, x2):\n",
        "        return np.sqrt(np.sum((x1 - x2) ** 2))\n",
        "\n",
        "    def weighted_vote(self, labels, weights):\n",
        "        unique_labels = np.unique(labels)\n",
        "        weighted_votes = {label: 0 for label in unique_labels}\n",
        "        for label, weight in zip(labels, weights):\n",
        "            weighted_votes[label] += weight\n",
        "        return max(weighted_votes, key=weighted_votes.get)\n",
        "# Example usage:\n",
        "neigh =KNN(7)\n",
        "neigh.fit(X_train, y_train)\n",
        "y_pred=neigh.predict(X_test)\n",
        "print(y_test-y_pred)\n"
      ],
      "metadata": {
        "id": "8XhzejY6NlrL",
        "colab": {
          "base_uri": "https://localhost:8080/"
        },
        "outputId": "f49e4f59-c8d3-49e6-e38d-ac1933cfaf5c"
      },
      "execution_count": null,
      "outputs": [
        {
          "output_type": "stream",
          "name": "stdout",
          "text": [
            "[ 0.  0.  0.  0.  0.  0.  0.  0.  0.  0.  0.  0.  1.  0.  0.  0.  1.  0.\n",
            "  0.  0.  0.  0.  0.  0.  0.  0.  0.  0.  0.  0.  0.  0.  0.  1.  0.  0.\n",
            "  0.  0.  0.  1.  0.  0.  0.  0.  0.  0.  0.  0.  0.  0.  0.  0.  0.  0.\n",
            "  0.  0.  0.  0.  0.  0.  0.  0.  0.  0.  0.  1.  0.  0.  0.  1.  0.  0.\n",
            "  0.  0.  0.  0.  0.  0.  0.  0.  0.  0.  0.  0.  0.  0. -1.  0.  0.  0.\n",
            "  0.  1.  1.  0.  0.  0.  0.  0.  0.  0.  0.  0.  0.  0.  0.  0.  0.  0.\n",
            "  0.  1.  0.  0.  1.  0.  0.  0.  0.  0.  0.  0.  1.  0.  0.  0.  0.  0.\n",
            "  0.  0.  0.  0.  0.  0.  1.  0.  1.  0.  0.  0.  1.  0.  0.  0.  0.  0.\n",
            "  0.  0.  0.  0.  0.  0.  0.  0.  0.  0.  0.  0.  0.  0.  1.  0.  0.  0.\n",
            "  0.  0.  0.  0.  0.  1.  0. -1.  0.  0.  0.  1.  0.  0.  0.  1.  0.  0.\n",
            "  0.  0.  0.  0.  0.  0.  1.  0.  0.  0.  0.  0.  0.  0.  0.  0.  0.  0.\n",
            "  0.  0.  1.  0.  0.  0.  0.  0.  0.  0.  0.  0.  0.  0.  0.  0.  0.  0.\n",
            "  0.  0.  0.  0.  0.  1.  0.  0.  0.  0.  0.  0.  0.  0.  0.  1.  0.  0.\n",
            " -1.  0.  0.  0.  1.  0.  0.  0.  0.  0. -1.  0.  0.  0.  0.  0.  1.  0.\n",
            "  0.  0.  0. -1.  0.  0.  1.  0.  0.  0.  0.  1.  0.  0.  0.  0.  0.  0.\n",
            "  0.  0.  0.  0.  1.  0. -1.  0.  0.  0.  0.  0.  0.  0.  0.  0.  0.  0.\n",
            "  0.  0.  0.  0.  0.  0.  1.  0.  0.  0.  0.  0.  0.  0.  0.  0.  0.  0.\n",
            "  0. -1.  0.  0.  0. -1.  0.  0.  0.  0. -1.  1.  1.  0.  0.  0.  0.  0.\n",
            "  0.  0.  0.  0.  0.  0.  0.  0.  0.  0.  0.  0.  0.  0.  0.  0.  0.  0.\n",
            "  0.  0.  1.  0.  0.  0.  0.  0.  0.  0.  0.  0.  0.  0.  0.  0.  0.  0.\n",
            "  0.  0.  0.  0.  0.  0.  0.  0.  0.  0.  1.  0.  0.  0.  0.  0.  0.  0.\n",
            "  0.  0.  0.  0.  0.  1.  0.  0.  0.  0.  0.  0.  0.  0.  0.  0.  0.  1.\n",
            "  0. -1.  1.  0.  0.  0.  0.  0.  1.  0.  0.  0.  0.  0.  0.  0.  0.  1.\n",
            "  0.  0.  0.  0.  0.  0. -1.  0.  0. -1. -1.  0.  0.]\n"
          ]
        }
      ]
    },
    {
      "cell_type": "markdown",
      "source": [
        "# **Nearest Centroid Classifier**"
      ],
      "metadata": {
        "id": "MtAN0E1rMpJm"
      }
    },
    {
      "cell_type": "markdown",
      "source": [
        "* from sklearn"
      ],
      "metadata": {
        "id": "pGMnnE42Mum_"
      }
    },
    {
      "cell_type": "code",
      "source": [
        "\"\"\"from sklearn.neighbors import NearestCentroid\n",
        "import numpy as np\n",
        "centroid_classifier = NearestCentroid()\n",
        "centroid_classifier.fit(X_train, y_train)\n",
        "y_pred = centroid_classifier.predict(X_test)\n",
        "print(y_test-y_pred)"
      ],
      "metadata": {
        "id": "gFiRQu55Moz6"
      },
      "execution_count": null,
      "outputs": []
    },
    {
      "cell_type": "markdown",
      "source": [
        "* from scratch"
      ],
      "metadata": {
        "id": "_BX78WMXNCII"
      }
    },
    {
      "cell_type": "code",
      "source": [
        "\"\"\"import numpy as np\n",
        "\n",
        "class NearestCentroidClassifier:\n",
        "    def __init__(self):\n",
        "        self.centroids = None\n",
        "\n",
        "    def fit(self, X_train, y_train):\n",
        "        unique_classes = np.unique(y_train)\n",
        "        self.centroids = {}\n",
        "        for class_ in unique_classes:\n",
        "            class_indices = np.where(y_train == class_)[0]\n",
        "            class_data = X_train[class_indices]\n",
        "            centroid = np.mean(class_data, axis=0)\n",
        "            self.centroids[class_] = centroid\n",
        "\n",
        "    def predict(self, X_test):\n",
        "        y_pred = np.zeros(X_test.shape[0])\n",
        "        for i in range(X_test.shape[0]):\n",
        "            distances = [self.euclidean_distance(X_test[i], centroid) for centroid in self.centroids.values()]\n",
        "            nearest_centroid_index = np.argmin(distances)\n",
        "            y_pred[i] = list(self.centroids.keys())[nearest_centroid_index]\n",
        "        return y_pred\n",
        "\n",
        "    def euclidean_distance(self, x1, x2):\n",
        "        return np.sqrt(np.sum((x1 - x2) ** 2))\n",
        "\n",
        "# Example usage:\n",
        "nc_classifier = NearestCentroidClassifier()\n",
        "nc_classifier.fit(X_train, y_train)\n",
        "y_pred = nc_classifier.predict(X_test)\n",
        "print(y_test-y_pred)\n"
      ],
      "metadata": {
        "id": "kuHJgvSMNE7g"
      },
      "execution_count": null,
      "outputs": []
    },
    {
      "cell_type": "markdown",
      "source": [],
      "metadata": {
        "id": "5HU5hMuinQz7"
      }
    },
    {
      "cell_type": "markdown",
      "source": [
        "# **Performance Analysis and Evaluation**\n"
      ],
      "metadata": {
        "id": "RnLF4-W_nSqm"
      }
    },
    {
      "cell_type": "code",
      "source": [
        "import matplotlib.pyplot as plt\n",
        "from sklearn.metrics import top_k_accuracy_score, confusion_matrix, ConfusionMatrixDisplay, classification_report\n",
        "\n",
        "cm=confusion_matrix(y_test,y_pred)\n",
        "disp= ConfusionMatrixDisplay (confusion_matrix=cm, display_labels=data.target_names)\n",
        "disp.plot()\n",
        "plt.show()\n",
        "print(top_k_accuracy_score(y_test, y_pred, k=2))\n",
        "print(classification_report(y_test,y_pred,target_names=data.target_names))"
      ],
      "metadata": {
        "colab": {
          "base_uri": "https://localhost:8080/",
          "height": 688
        },
        "id": "EU68UscbneNO",
        "outputId": "d5e4272a-f86b-447c-e88f-b88e682773f3"
      },
      "execution_count": null,
      "outputs": [
        {
          "output_type": "display_data",
          "data": {
            "text/plain": [
              "<Figure size 640x480 with 2 Axes>"
            ],
            "image/png": "[encoded data removed]"
          },
          "metadata": {}
        },
        {
          "output_type": "stream",
          "name": "stdout",
          "text": [
            "1.0\n",
            "              precision    recall  f1-score   support\n",
            "\n",
            "   malignant       0.79      0.91      0.85       152\n",
            "      benign       0.95      0.87      0.90       275\n",
            "\n",
            "    accuracy                           0.88       427\n",
            "   macro avg       0.87      0.89      0.88       427\n",
            "weighted avg       0.89      0.88      0.88       427\n",
            "\n"
          ]
        },
        {
          "output_type": "stream",
          "name": "stderr",
          "text": [
            "/usr/local/lib/python3.10/dist-packages/sklearn/metrics/_ranking.py:1802: UndefinedMetricWarning: 'k' (2) greater than or equal to 'n_classes' (2) will result in a perfect score and is therefore meaningless.\n",
            "  warnings.warn(\n"
          ]
        }
      ]
    },
    {
      "cell_type": "markdown",
      "source": [
        "# **Descriptive Analysis (Model)**"
      ],
      "metadata": {
        "id": "CIFvzyDSnL5I"
      }
    },
    {
      "cell_type": "markdown",
      "source": [
        "* From Sklearn:"
      ],
      "metadata": {
        "id": "8pl1kwwqpaoU"
      }
    },
    {
      "cell_type": "code",
      "source": [
        "from sklearn.datasets import load_breast_cancer\n",
        "from sklearn.cluster import KMeans\n",
        "\n",
        "# Suppression du label:\n",
        "del y\n",
        "# Créer et entraîner le modèle de clustering K-Means\n",
        "k = 2  # Nombre de clusters désiré\n",
        "kmeans = KMeans(n_clusters=k)\n",
        "kmeans.fit(X)\n",
        "\n",
        "# Prédire les clusters pour les données\n",
        "labels = kmeans.predict(X)\n",
        "\n",
        "# Afficher les étiquettes des clusters prédites\n",
        "print(\"Labels des clusters prédits :\")\n",
        "print(labels)\n",
        "\n",
        "# Afficher les centres des clusters\n",
        "print(\"\\nCentres des clusters :\")\n",
        "print(kmeans.cluster_centers_)\n"
      ],
      "metadata": {
        "colab": {
          "base_uri": "https://localhost:8080/"
        },
        "id": "SGTJuEXApVuC",
        "outputId": "9e385a18-7dc4-47ac-d351-36e37aadaf21"
      },
      "execution_count": null,
      "outputs": [
        {
          "output_type": "stream",
          "name": "stderr",
          "text": [
            "/usr/local/lib/python3.10/dist-packages/sklearn/cluster/_kmeans.py:870: FutureWarning: The default value of `n_init` will change from 10 to 'auto' in 1.4. Set the value of `n_init` explicitly to suppress the warning\n",
            "  warnings.warn(\n"
          ]
        },
        {
          "output_type": "stream",
          "name": "stdout",
          "text": [
            "Labels des clusters prédits :\n",
            "[1 1 1 0 1 0 1 0 0 0 0 1 1 0 0 0 0 1 1 0 0 0 0 1 1 1 0 1 1 1 1 0 1 1 1 1 0\n",
            " 0 0 0 0 0 1 0 0 1 0 0 0 0 0 0 0 1 0 0 1 0 0 0 0 0 0 0 0 0 0 0 0 0 1 0 1 0\n",
            " 0 1 0 1 1 0 0 0 1 1 0 1 0 1 0 0 0 0 0 0 0 1 0 0 0 0 0 0 0 0 0 0 0 0 1 0 0\n",
            " 0 0 0 0 0 0 0 1 1 0 1 1 0 0 0 0 1 0 1 0 0 0 0 1 0 0 0 0 0 0 1 0 0 0 0 0 0\n",
            " 0 0 0 0 0 0 0 0 1 0 0 0 0 1 1 0 1 0 0 1 1 0 0 0 0 0 0 0 0 0 0 0 1 1 1 0 0\n",
            " 0 1 0 0 0 0 0 0 0 0 0 0 1 1 0 0 1 1 0 0 0 0 1 0 0 1 0 1 0 0 0 0 0 1 1 0 0\n",
            " 0 0 0 0 0 0 0 0 1 0 0 1 0 0 1 1 0 1 0 0 0 0 1 0 0 0 0 0 1 0 1 1 1 0 1 0 1\n",
            " 0 1 1 1 0 1 1 0 0 0 0 0 0 1 0 1 0 0 1 0 0 1 0 1 0 0 0 0 0 0 0 0 0 0 0 0 0\n",
            " 0 0 0 0 1 0 1 0 0 0 0 0 0 0 0 0 0 0 0 0 0 1 0 0 0 1 0 1 0 0 0 0 0 0 0 0 0\n",
            " 0 0 1 0 1 0 1 0 0 0 1 0 0 0 0 0 0 0 0 1 0 0 0 0 0 0 0 0 0 0 0 0 1 1 0 1 1\n",
            " 0 0 1 1 0 0 0 0 0 0 0 0 0 0 0 0 0 0 0 1 0 0 1 1 0 0 0 0 0 0 1 0 0 0 0 0 0\n",
            " 0 1 0 0 0 0 0 0 0 0 1 0 0 0 0 0 0 0 0 0 0 0 0 0 0 1 1 0 0 0 0 0 0 0 1 0 0\n",
            " 1 0 1 0 0 1 0 1 0 0 0 0 0 0 0 0 1 1 0 0 0 0 0 0 1 0 0 0 0 0 0 0 0 0 0 0 0\n",
            " 0 0 0 0 0 0 1 0 0 0 1 1 0 0 0 0 0 1 1 0 0 0 1 0 0 0 0 0 0 0 0 0 0 0 0 1 1\n",
            " 0 0 0 1 0 0 0 0 0 0 0 0 0 0 0 1 0 1 0 0 0 0 0 0 0 0 0 0 0 0 0 0 0 0 0 0 0\n",
            " 0 0 0 0 0 0 0 0 1 1 1 0 1 0]\n",
            "\n",
            "Centres des clusters :\n",
            "[[1.25562991e+01 1.85703653e+01 8.11234703e+01 4.96061872e+02\n",
            "  9.48844977e-02 9.10998174e-02 6.24377642e-02 3.34325434e-02\n",
            "  1.78057991e-01 6.34540183e-02 3.04190868e-01 1.21515320e+00\n",
            "  2.15288059e+00 2.37852922e+01 7.17326256e-03 2.34746895e-02\n",
            "  2.87455128e-02 1.06363242e-02 2.06135799e-02 3.74750297e-03\n",
            "  1.40439018e+01 2.47095434e+01 9.19375114e+01 6.19647945e+02\n",
            "  1.29959110e-01 2.23311758e-01 2.19214947e-01 9.13298425e-02\n",
            "  2.83553653e-01 8.32819406e-02]\n",
            " [1.93799237e+01 2.16945802e+01 1.28231298e+02 1.18592977e+03\n",
            "  1.01294580e-01 1.48612977e-01 1.76939466e-01 1.00698779e-01\n",
            "  1.91539695e-01 6.06029008e-02 7.42803817e-01 1.22253817e+00\n",
            "  5.25058015e+00 9.56781679e+01 6.59868702e-03 3.21766947e-02\n",
            "  4.24197710e-02 1.56739847e-02 2.03039695e-02 3.95338931e-03\n",
            "  2.37094656e+01 2.89126718e+01 1.58496183e+02 1.75302290e+03\n",
            "  1.40424733e-01 3.57757710e-01 4.49306107e-01 1.92431069e-01\n",
            "  3.11881679e-01 8.61654962e-02]]\n"
          ]
        }
      ]
    },
    {
      "cell_type": "markdown",
      "source": [
        "* From Scratch:"
      ],
      "metadata": {
        "id": "pkk7ET5kqsnq"
      }
    },
    {
      "cell_type": "code",
      "source": [
        "import numpy as np\n",
        "# Fonction pour initialiser les centroids aléatoirement\n",
        "def initialize_centroids(X, k):\n",
        "    centroids_indices = np.random.choice(X.shape[0], k, replace=False)\n",
        "    centroids = X[centroids_indices]\n",
        "    return centroids\n",
        "\n",
        "# Fonction pour affecter chaque point à son centroid le plus proche\n",
        "def assign_clusters(X, centroids):\n",
        "    distances = np.sqrt(((X - centroids[:, np.newaxis])**2).sum(axis=2))\n",
        "    return np.argmin(distances, axis=0)\n",
        "\n",
        "# Fonction pour mettre à jour les centroids\n",
        "def update_centroids(X, labels, k):\n",
        "    centroids = np.zeros((k, X.shape[1]))\n",
        "    for i in range(k):\n",
        "        centroids[i] = np.mean(X[labels == i], axis=0)\n",
        "    return centroids\n",
        "\n",
        "# Implémentation de l'algorithme K-Means\n",
        "def kmeans(X, k, max_iter=100):\n",
        "    centroids = initialize_centroids(X, k)\n",
        "    for _ in range(max_iter):\n",
        "        labels = assign_clusters(X, centroids)\n",
        "        new_centroids = update_centroids(X, labels, k)\n",
        "        if np.all(centroids == new_centroids):\n",
        "            break\n",
        "        centroids = new_centroids\n",
        "    return labels, centroids\n",
        "\n",
        "# Nombre de clusters désiré\n",
        "k = 2\n",
        "\n",
        "# Appliquer K-Means\n",
        "labels, centroids = kmeans(X, k)\n",
        "\n",
        "# Afficher les étiquettes des clusters prédites\n",
        "print(\"Labels des clusters prédits :\")\n",
        "print(labels)\n",
        "\n",
        "# Afficher les centres des clusters\n",
        "print(\"\\nCentres des clusters :\")\n",
        "print(centroids)"
      ],
      "metadata": {
        "colab": {
          "base_uri": "https://localhost:8080/"
        },
        "id": "az9fwWvnqv_f",
        "outputId": "312589e5-ac02-4350-a5e5-87285279447c"
      },
      "execution_count": null,
      "outputs": [
        {
          "output_type": "stream",
          "name": "stdout",
          "text": [
            "Labels des clusters prédits :\n",
            "[0 0 0 1 0 1 0 1 1 1 1 0 0 1 1 1 1 0 0 1 1 1 1 0 0 0 1 0 0 0 0 1 0 0 0 0 1\n",
            " 1 1 1 1 1 0 1 1 0 1 1 1 1 1 1 1 0 1 1 0 1 1 1 1 1 1 1 1 1 1 1 1 1 0 1 0 1\n",
            " 1 0 1 0 0 1 1 1 0 0 1 0 1 0 1 1 1 1 1 1 1 0 1 1 1 1 1 1 1 1 1 1 1 1 0 1 1\n",
            " 1 1 1 1 1 1 1 0 0 1 0 0 1 1 1 1 0 1 0 1 1 1 1 0 1 1 1 1 1 1 0 1 1 1 1 1 1\n",
            " 1 1 1 1 1 1 1 1 0 1 1 1 1 0 0 1 0 1 1 0 0 1 1 1 1 1 1 1 1 1 1 1 0 0 0 1 1\n",
            " 1 0 1 1 1 1 1 1 1 1 1 1 0 0 1 1 0 0 1 1 1 1 0 1 1 0 1 0 1 1 1 1 1 0 0 1 1\n",
            " 1 1 1 1 1 1 1 1 0 1 1 0 1 1 0 0 1 0 1 1 1 1 0 1 1 1 1 1 0 1 0 0 0 1 0 1 0\n",
            " 1 0 0 0 1 0 0 1 1 1 1 1 1 0 1 0 1 1 0 1 1 0 1 0 1 1 1 1 1 1 1 1 1 1 1 1 1\n",
            " 1 1 1 1 0 1 0 1 1 1 1 1 1 1 1 1 1 1 1 1 1 0 1 1 1 0 1 0 1 1 1 1 1 1 1 1 1\n",
            " 1 1 0 1 0 1 0 1 1 1 0 1 1 1 1 1 1 1 1 0 1 1 1 1 1 1 1 1 1 1 1 1 0 0 1 0 0\n",
            " 1 1 0 0 1 1 1 1 1 1 1 1 1 1 1 1 1 1 1 0 1 1 0 0 1 1 1 1 1 1 0 1 1 1 1 1 1\n",
            " 1 0 1 1 1 1 1 1 1 1 0 1 1 1 1 1 1 1 1 1 1 1 1 1 1 0 0 1 1 1 1 1 1 1 0 1 1\n",
            " 0 1 0 1 1 0 1 0 1 1 1 1 1 1 1 1 0 0 1 1 1 1 1 1 0 1 1 1 1 1 1 1 1 1 1 1 1\n",
            " 1 1 1 1 1 1 0 1 1 1 0 0 1 1 1 1 1 0 0 1 1 1 0 1 1 1 1 1 1 1 1 1 1 1 1 0 0\n",
            " 1 1 1 0 1 1 1 1 1 1 1 1 1 1 1 0 1 0 1 1 1 1 1 1 1 1 1 1 1 1 1 1 1 1 1 1 1\n",
            " 1 1 1 1 1 1 1 1 0 0 0 1 0 1]\n",
            "\n",
            "Centres des clusters :\n",
            "[[1.93799237e+01 2.16945802e+01 1.28231298e+02 1.18592977e+03\n",
            "  1.01294580e-01 1.48612977e-01 1.76939466e-01 1.00698779e-01\n",
            "  1.91539695e-01 6.06029008e-02 7.42803817e-01 1.22253817e+00\n",
            "  5.25058015e+00 9.56781679e+01 6.59868702e-03 3.21766947e-02\n",
            "  4.24197710e-02 1.56739847e-02 2.03039695e-02 3.95338931e-03\n",
            "  2.37094656e+01 2.89126718e+01 1.58496183e+02 1.75302290e+03\n",
            "  1.40424733e-01 3.57757710e-01 4.49306107e-01 1.92431069e-01\n",
            "  3.11881679e-01 8.61654962e-02]\n",
            " [1.25562991e+01 1.85703653e+01 8.11234703e+01 4.96061872e+02\n",
            "  9.48844977e-02 9.10998174e-02 6.24377642e-02 3.34325434e-02\n",
            "  1.78057991e-01 6.34540183e-02 3.04190868e-01 1.21515320e+00\n",
            "  2.15288059e+00 2.37852922e+01 7.17326256e-03 2.34746895e-02\n",
            "  2.87455128e-02 1.06363242e-02 2.06135799e-02 3.74750297e-03\n",
            "  1.40439018e+01 2.47095434e+01 9.19375114e+01 6.19647945e+02\n",
            "  1.29959110e-01 2.23311758e-01 2.19214947e-01 9.13298425e-02\n",
            "  2.83553653e-01 8.32819406e-02]]\n"
          ]
        }
      ]
    },
    {
      "cell_type": "markdown",
      "source": [
        "* Performance analysis & evaluation:"
      ],
      "metadata": {
        "id": "bkgVDJwnrF2h"
      }
    },
    {
      "cell_type": "markdown",
      "source": [
        "1.   Validation:\n",
        "\n",
        "\n"
      ],
      "metadata": {
        "id": "dOAOgwu_yHny"
      }
    },
    {
      "cell_type": "code",
      "source": [
        " from sklearn.metrics import davies_bouldin_score\n",
        " dbi = davies_bouldin_score(X, labels)\n",
        " print(dbi)"
      ],
      "metadata": {
        "colab": {
          "base_uri": "https://localhost:8080/"
        },
        "id": "pInY7VPgrM28",
        "outputId": "389ad531-e644-4659-fe06-577db91f52c5"
      },
      "execution_count": null,
      "outputs": [
        {
          "output_type": "stream",
          "name": "stdout",
          "text": [
            "0.5044035685410985\n"
          ]
        }
      ]
    },
    {
      "cell_type": "markdown",
      "source": [
        "2.   Consistence:\n",
        "\n"
      ],
      "metadata": {
        "id": "NvvR4M9qyQnM"
      }
    },
    {
      "cell_type": "code",
      "source": [
        "from sklearn.metrics import confusion_matrix, ConfusionMatrixDisplay\n",
        "from IPython.display import display\n",
        "import matplotlib.pyplot as plt\n",
        "\n",
        "y=data.target\n",
        "cluster_labels = np.unique(labels)\n",
        "\n",
        "contingency_matrix = ConfusionMatrixDisplay(confusion_matrix(y,labels), display_labels=cluster_labels)\n",
        "contingency_matrix.plot()\n",
        "plt.show()"
      ],
      "metadata": {
        "id": "VkvCwugjyhWr",
        "colab": {
          "base_uri": "https://localhost:8080/",
          "height": 449
        },
        "outputId": "12c5b7f5-30e2-495a-bda9-ac85a85d6613"
      },
      "execution_count": null,
      "outputs": [
        {
          "output_type": "display_data",
          "data": {
            "text/plain": [
              "<Figure size 640x480 with 2 Axes>"
            ],
            "image/png": "[encoded data removed]"
          },
          "metadata": {}
        }
      ]
    },
    {
      "cell_type": "code",
      "source": [
        "from sklearn.metrics import homogeneity_completeness_v_measure\n",
        "print('Homogeneity = ', homogeneity_completeness_v_measure(y, labels)[0])\n",
        "print('Completeness = ', homogeneity_completeness_v_measure(y, labels)[1])\n",
        "print('V-measure = ', homogeneity_completeness_v_measure(y, labels)[2])"
      ],
      "metadata": {
        "id": "DOeIHocI0bQP",
        "colab": {
          "base_uri": "https://localhost:8080/"
        },
        "outputId": "9130b99c-379d-4a95-a3ee-0b7a7e7d31c4"
      },
      "execution_count": null,
      "outputs": [
        {
          "output_type": "stream",
          "name": "stdout",
          "text": [
            "Homogeneity =  0.42229071246999117\n",
            "Completeness =  0.5168089972809706\n",
            "V-measure =  0.46479332792160793\n"
          ]
        }
      ]
    }
  ]
}